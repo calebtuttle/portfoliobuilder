{
 "cells": [
  {
   "cell_type": "code",
   "execution_count": 1,
   "metadata": {},
   "outputs": [],
   "source": [
    "import requests\n",
    "\n",
    "from portfoliobuilder import api_utils, finnhub_endpoint, finnhub_key"
   ]
  },
  {
   "cell_type": "markdown",
   "metadata": {},
   "source": [
    "### Notes for AAPL 2021 10-K\n",
    "Year: response.json()['data'][0]['year']\n",
    "\n",
    "Form: response.json()['data'][0]['form']\n",
    "\n",
    "Report: response.json()['data'][0]['report']\n",
    "\n",
    "Balance Sheet: response.json()['data'][0]['report']['bs']\n",
    "\n",
    "Income Statement: response.json()['data'][0]['report']['ic']\n",
    "\n",
    "Cash Flow Statement: response.json()['data'][0]['report']['cf']\n",
    "\n",
    "Total Revenue: response.json()['data'][0]['report']['ic'][0]['value']"
   ]
  },
  {
   "cell_type": "code",
   "execution_count": 3,
   "metadata": {},
   "outputs": [],
   "source": [
    "def get_fins_as_reported(symbol):\n",
    "    url = finnhub_endpoint + 'stock/financials-reported'\n",
    "    params = {'symbol': symbol, 'token': finnhub_key}\n",
    "    return requests.get(url=url, params=params)"
   ]
  },
  {
   "cell_type": "code",
   "execution_count": 4,
   "metadata": {},
   "outputs": [],
   "source": [
    "response = get_fins_as_reported('AAPL')\n",
    "r_json = response.json()"
   ]
  },
  {
   "cell_type": "code",
   "execution_count": 7,
   "metadata": {},
   "outputs": [
    {
     "name": "stdout",
     "output_type": "stream",
     "text": [
      "Net income\n",
      "Change in foreign currency translation, net of tax\n",
      "Change in fair value of derivatives\n",
      "Adjustment for net (gains)/losses realized and included in net income\n",
      "Total change in unrealized gains/losses on derivative instruments\n",
      "Change in fair value of marketable securities\n",
      "Adjustment for net (gains)/losses realized and included in net income\n",
      "Total change in unrealized gains/losses on marketable securities\n",
      "Total other comprehensive income/(loss)\n",
      "Other comprehensive income/(loss):\n",
      "Net sales\n",
      "Total cost of sales\n",
      "Gross margin\n",
      "Research and development expense\n",
      "Selling, general and administrative\n",
      "Operating expenses:\n",
      "Operating income\n",
      "Other income/(expense), net\n",
      "Total amounts reclassified from AOCI\n",
      "Provision for income taxes\n",
      "Basic (in dollars per share)\n",
      "Diluted (in dollars per share)\n",
      "Basic (in shares)\n",
      "Diluted (in shares)\n"
     ]
    }
   ],
   "source": [
    "# r_json['data'][0]['report']['ic']\n",
    "\n",
    "for i in r_json['data'][0]['report']['ic']:\n",
    "    print(i['label'])"
   ]
  },
  {
   "cell_type": "markdown",
   "metadata": {},
   "source": [
    "## Testing Polygon financials endpoint"
   ]
  },
  {
   "cell_type": "code",
   "execution_count": 2,
   "metadata": {},
   "outputs": [],
   "source": [
    "fins = api_utils.get_financials('AAPL')\n",
    "fins = fins['results']"
   ]
  },
  {
   "cell_type": "code",
   "execution_count": 14,
   "metadata": {},
   "outputs": [
    {
     "name": "stdout",
     "output_type": "stream",
     "text": [
      "reportPeriod: 2019-09-28\n",
      "reportPeriod: 2018-09-29\n",
      "reportPeriod: 2017-09-30\n",
      "reportPeriod: 2016-09-24\n",
      "reportPeriod: 2015-09-26\n",
      "reportPeriod: 2014-09-27\n",
      "reportPeriod: 2013-09-28\n",
      "reportPeriod: 2012-09-29\n",
      "reportPeriod: 2011-09-24\n",
      "reportPeriod: 2010-09-25\n"
     ]
    }
   ],
   "source": [
    "# for i in range(len(fins)):\n",
    "for key in fins[i].keys():\n",
    "    print(key)\n",
    "    # if key == 'reportPeriod':\n",
    "    #     print(f'reportPeriod: {fins[i][key]}')\n",
    "\n",
    "# print(fins[-1]['reportPeriod'])"
   ]
  },
  {
   "cell_type": "code",
   "execution_count": null,
   "metadata": {},
   "outputs": [],
   "source": []
  }
 ],
 "metadata": {
  "interpreter": {
   "hash": "ee91234735b438aa91d65fdde7414a7214943346f01b5df605769eb54137ffb3"
  },
  "kernelspec": {
   "display_name": "Python 3.7.6 64-bit ('portfoliobuilder': conda)",
   "name": "python3"
  },
  "language_info": {
   "codemirror_mode": {
    "name": "ipython",
    "version": 3
   },
   "file_extension": ".py",
   "mimetype": "text/x-python",
   "name": "python",
   "nbconvert_exporter": "python",
   "pygments_lexer": "ipython3",
   "version": "3.7.6"
  },
  "orig_nbformat": 4
 },
 "nbformat": 4,
 "nbformat_minor": 2
}