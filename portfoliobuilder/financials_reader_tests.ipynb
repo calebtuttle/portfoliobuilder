{
 "cells": [
  {
   "cell_type": "code",
   "execution_count": 1,
   "metadata": {},
   "outputs": [],
   "source": [
    "import requests\n",
    "\n",
    "from portfoliobuilder import finnhub_endpoint, finnhub_key"
   ]
  },
  {
   "cell_type": "markdown",
   "metadata": {},
   "source": [
    "### Notes for AAPL 2021 10-K\n",
    "Year: response.json()['data'][0]['year']\n",
    "\n",
    "Form: response.json()['data'][0]['form']\n",
    "\n",
    "Report: response.json()['data'][0]['report']\n",
    "\n",
    "Balance Sheet: response.json()['data'][0]['report']['bs']\n",
    "\n",
    "Income Statement: response.json()['data'][0]['report']['ic']\n",
    "\n",
    "Cash Flow Statement: response.json()['data'][0]['report']['cf']\n",
    "\n",
    "Total Revenue: response.json()['data'][0]['report']['ic'][0]['value']"
   ]
  },
  {
   "cell_type": "code",
   "execution_count": 2,
   "metadata": {},
   "outputs": [],
   "source": [
    "def get_fins_as_reported(symbol):\n",
    "    url = finnhub_endpoint + 'stock/financials-reported'\n",
    "    params = {'symbol': symbol, 'token': finnhub_key}\n",
    "    return requests.get(url=url, params=params)\n"
   ]
  },
  {
   "cell_type": "code",
   "execution_count": 225,
   "metadata": {},
   "outputs": [],
   "source": [
    "response = get_fins_as_reported('WFC')\n",
    "r_json = response.json()"
   ]
  },
  {
   "cell_type": "code",
   "execution_count": 226,
   "metadata": {},
   "outputs": [
    {
     "name": "stdout",
     "output_type": "stream",
     "text": [
      "NetIncomeLoss\n",
      "OtherComprehensiveIncomeUnrealizedHoldingGainLossOnSecuritiesArisingDuringPeriodBeforeTax\n",
      "wfc:OtherComprehensiveIncomeLossReclassificationAdjustmentForSaleOrWriteDownOfSecuritiesIncludedInNetIncomeBeforeTax\n",
      "OtherComprehensiveIncomeUnrealizedGainLossOnDerivativesArisingDuringPeriodBeforeTax\n",
      "OtherComprehensiveIncomeLossReclassificationAdjustmentFromAOCIOnDerivativesBeforeTax\n",
      "OtherComprehensiveIncomeLossPensionAndOtherPostretirementBenefitPlansNetUnamortizedGainLossArisingDuringPeriodBeforeTax\n",
      "wfc:OtherComprehensiveIncomeReclassificationOfDefinedBenefitPlansNetGainLossAmortizationOfNetPriorServiceCostCreditAndFinalizationOfValuationRecognizedInNetPeriodicBenefitCostBeforeTax\n",
      "OtherComprehensiveIncomeForeignCurrencyTransactionAndTranslationGainLossBeforeReclassificationAndTax\n",
      "OtherComprehensiveIncomeLossBeforeTax\n",
      "OtherComprehensiveIncomeLossTax\n",
      "OtherComprehensiveIncomeLossNetOfTax\n",
      "OtherComprehensiveIncomeLossNetOfTaxPortionAttributableToNoncontrollingInterest\n",
      "OtherComprehensiveIncomeLossNetOfTaxPortionAttributableToParent\n",
      "ComprehensiveIncomeNetOfTax\n",
      "ComprehensiveIncomeNetOfTaxAttributableToNoncontrollingInterest\n",
      "ComprehensiveIncomeNetOfTaxIncludingPortionAttributableToNoncontrollingInterest\n",
      "InterestIncomeDebtSecuritiesOperating\n",
      "InterestAndFeeIncomeLoansHeldForSaleMortgages\n",
      "InterestAndFeeIncomeNonmortgageLoansAndLeasesHeldForSale\n",
      "InterestAndFeeIncomeLoansAndLeasesHeldInPortfolio\n",
      "DividendIncomeEquitySecuritiesOperating\n",
      "OtherInterestAndDividendIncome\n",
      "InterestAndDividendIncomeOperating\n",
      "InterestExpenseDeposits\n",
      "InterestExpenseShortTermBorrowings\n",
      "InterestExpenseLongTermDebt\n",
      "InterestExpenseOther\n",
      "InterestExpense\n",
      "InterestIncomeExpenseNet\n",
      "ProvisionForLoanLeaseAndOtherLosses\n",
      "InterestIncomeExpenseAfterProvisionForLoanLoss\n",
      "FeesAndCommissionsMortgageBankingAndServicing\n",
      "InsuranceServicesRevenue\n",
      "TradingGainsLosses\n",
      "wfc:DebtSecuritiesGainLoss1\n",
      "wfc:GainsLossesFromEquityInvestments\n",
      "OperatingLeasesIncomeStatementLeaseRevenue\n",
      "NoninterestIncomeOtherOperatingIncome\n",
      "NoninterestIncome\n",
      "SalariesWagesAndOfficersCompensation\n",
      "wfc:CommissionAndIncentiveCompensation\n",
      "OtherLaborRelatedExpenses\n",
      "EquipmentExpense\n",
      "OccupancyNet\n",
      "AmortizationOfIntangibleAssets\n",
      "FederalDepositInsuranceCorporationPremiumExpense\n",
      "OtherNoninterestExpense\n",
      "NoninterestExpense\n",
      "IncomeLossFromContinuingOperationsBeforeIncomeTaxesExtraordinaryItemsNoncontrollingInterest\n",
      "IncomeTaxExpenseBenefit\n",
      "IncomeLossFromContinuingOperationsIncludingPortionAttributableToNoncontrollingInterest\n",
      "NetIncomeLossAttributableToNoncontrollingInterest\n",
      "PreferredStockDividendsAndOtherAdjustments\n",
      "NetIncomeLossAvailableToCommonStockholdersBasic\n",
      "EarningsPerShareBasic\n",
      "EarningsPerShareDiluted\n",
      "WeightedAverageNumberOfSharesOutstandingBasic\n",
      "WeightedAverageNumberOfDilutedSharesOutstanding\n"
     ]
    }
   ],
   "source": [
    "# r_json['data'][0]['report']['ic']\n",
    "\n",
    "for i in r_json['data'][0]['report']['ic']:\n",
    "    print(i['concept'])"
   ]
  },
  {
   "cell_type": "code",
   "execution_count": null,
   "metadata": {},
   "outputs": [],
   "source": []
  }
 ],
 "metadata": {
  "interpreter": {
   "hash": "ee91234735b438aa91d65fdde7414a7214943346f01b5df605769eb54137ffb3"
  },
  "kernelspec": {
   "display_name": "Python 3.7.6 64-bit ('portfoliobuilder': conda)",
   "name": "python3"
  },
  "language_info": {
   "codemirror_mode": {
    "name": "ipython",
    "version": 3
   },
   "file_extension": ".py",
   "mimetype": "text/x-python",
   "name": "python",
   "nbconvert_exporter": "python",
   "pygments_lexer": "ipython3",
   "version": "3.7.6"
  },
  "orig_nbformat": 4
 },
 "nbformat": 4,
 "nbformat_minor": 2
}